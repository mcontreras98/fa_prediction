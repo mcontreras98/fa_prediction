{
 "cells": [
  {
   "cell_type": "code",
   "execution_count": 1,
   "id": "boxed-technical",
   "metadata": {},
   "outputs": [],
   "source": [
    "from PIL import Image\n",
    "import numpy as np\n",
    "import cv2\n",
    "import os"
   ]
  },
  {
   "cell_type": "code",
   "execution_count": 2,
   "id": "norwegian-settle",
   "metadata": {},
   "outputs": [],
   "source": [
    "folder = \"C:/Users/u987j293/Documents/cgan/Focal Adhesion\"\n",
    "count = 0\n",
    "for filename in os.listdir(folder):\n",
    "    count += 1\n",
    "    img_path = os.path.join(folder,filename)\n",
    "    img = cv2.imread(img_path)\n",
    "    gray = cv2.cvtColor(img,cv2.COLOR_RGB2GRAY)\n",
    "    rows,cols = gray.shape\n",
    "    M = cv2.getRotationMatrix2D((cols/2,rows/2),90,1)\n",
    "    dst = cv2.warpAffine(img,M,(cols,rows))\n",
    "    newimg = 'C:/Users/u987j293/Documents/cgan/FA/endothelial_cell_sample{}.png'.format(count)\n",
    "    cv2.imwrite(newimg, dst)"
   ]
  },
  {
   "cell_type": "code",
   "execution_count": 3,
   "id": "purple-flashing",
   "metadata": {},
   "outputs": [],
   "source": [
    "folder = \"C:/Users/u987j293/Documents/cgan/Focal Adhesion\"\n",
    "count = 0\n",
    "for filename in os.listdir(folder):\n",
    "    count += 1\n",
    "    img_path = os.path.join(folder,filename)\n",
    "    img = cv2.imread(img_path)\n",
    "    gray = cv2.cvtColor(img,cv2.COLOR_RGB2GRAY)\n",
    "    rows,cols = gray.shape\n",
    "    M = cv2.getRotationMatrix2D((cols/2,rows/2),180,1)\n",
    "    dst = cv2.warpAffine(img,M,(cols,rows))\n",
    "    newimg = 'C:/Users/u987j293/Documents/cgan/FA/endothelial_cell_sample{}.png'.format(count + 60)\n",
    "    cv2.imwrite(newimg, dst)"
   ]
  },
  {
   "cell_type": "code",
   "execution_count": 4,
   "id": "educational-pacific",
   "metadata": {},
   "outputs": [],
   "source": [
    "folder = \"C:/Users/u987j293/Documents/cgan/FA\"\n",
    "count = 0\n",
    "for filename in os.listdir(folder):\n",
    "    count += 1\n",
    "    img_path = os.path.join(folder,filename)\n",
    "    img = cv2.imread(img_path)\n",
    "    mirr = cv2.transpose(img)\n",
    "    newimg = 'C:/Users/u987j293/Documents/cgan/FA/endothelial_cell_sample{}.png'.format(count + 120)\n",
    "    cv2.imwrite(newimg, mirr)"
   ]
  },
  {
   "cell_type": "code",
   "execution_count": null,
   "id": "special-brown",
   "metadata": {},
   "outputs": [],
   "source": []
  }
 ],
 "metadata": {
  "kernelspec": {
   "display_name": "Python 3",
   "language": "python",
   "name": "python3"
  },
  "language_info": {
   "codemirror_mode": {
    "name": "ipython",
    "version": 3
   },
   "file_extension": ".py",
   "mimetype": "text/x-python",
   "name": "python",
   "nbconvert_exporter": "python",
   "pygments_lexer": "ipython3",
   "version": "3.7.3"
  }
 },
 "nbformat": 4,
 "nbformat_minor": 5
}
