{
 "cells": [
  {
   "cell_type": "code",
   "execution_count": null,
   "metadata": {},
   "outputs": [],
   "source": [
    "import h5py\n",
    "import numpy as np\n",
    "import cv2\n",
    "import os\n",
    "from PIL import Image\n",
    "from sklearn.preprocessing import OneHotEncoder\n",
    "from sklearn.preprocessing import LabelEncoder"
   ]
  },
  {
   "cell_type": "code",
   "execution_count": null,
   "metadata": {},
   "outputs": [],
   "source": [
    "data_folder = 'E:/allen'\n",
    "for folder in os.listdir(data_folder):\n",
    "    print(folder)"
   ]
  },
  {
   "cell_type": "code",
   "execution_count": null,
   "metadata": {},
   "outputs": [],
   "source": [
    "data_folder = 'E:/allen'\n",
    "img_data = np.empty((0,256,256,3), dtype='i8')\n",
    "for folder in os.listdir(data_folder):\n",
    "    class_folder = os.path.join(data_folder,folder)\n",
    "    for filename in os.listdir(class_folder):\n",
    "        img_path = os.path.join(class_folder,filename)\n",
    "        img_raw = Image.open(img_path)\n",
    "        newsize = (256, 256)\n",
    "        img_scaled = img_raw.resize(newsize)\n",
    "        img_arr = np.asarray(img_scaled)\n",
    "        img_arr_expand = np.expand_dims(img_arr, axis=0)\n",
    "        img_data = np.append(img_data, img_arr_expand, axis=0)\n",
    "        print(np.shape(img_data))"
   ]
  },
  {
   "cell_type": "code",
   "execution_count": null,
   "metadata": {},
   "outputs": [],
   "source": [
    "print(img_data.min())\n",
    "print(img_data.max())\n",
    "img_data_float = img_data.astype('float32')\n",
    "img_data_float /= 255.0\n",
    "print(img_data_float.min())\n",
    "print(img_data_float.max())"
   ]
  },
  {
   "cell_type": "code",
   "execution_count": null,
   "metadata": {},
   "outputs": [],
   "source": [
    "data_folder = 'E:/allen'\n",
    "labels = []\n",
    "for folder in os.listdir(data_folder):\n",
    "    class_folder = os.path.join(data_folder,folder)\n",
    "    for filename in os.listdir(class_folder):\n",
    "        labels.append(folder)"
   ]
  },
  {
   "cell_type": "code",
   "execution_count": null,
   "metadata": {},
   "outputs": [],
   "source": [
    "enc = OneHotEncoder(sparse=False)\n",
    "label_enc = LabelEncoder()\n",
    "labels_arr = np.array(labels)\n",
    "y_labels_int = label_enc.fit_transform(labels_arr)\n",
    "print(y_labels_int)\n",
    "print(np.shape(y_labels_int))\n",
    "y_labels = np.reshape(y_labels_int, (6077, 1))\n",
    "print(y_labels)\n",
    "y_vector = enc.fit_transform(y_labels)\n",
    "print(y_vector)\n",
    "print(np.shape(y_vector))"
   ]
  },
  {
   "cell_type": "code",
   "execution_count": null,
   "metadata": {},
   "outputs": [],
   "source": [
    "images_split = np.array_split(img_data_float, 3, axis=3)\n",
    "ref_channel = np.append(images_split[0], images_split[2], axis=3)\n",
    "print(np.shape(ref_channel))"
   ]
  },
  {
   "cell_type": "code",
   "execution_count": null,
   "metadata": {},
   "outputs": [],
   "source": [
    "print(type(img_data_float))\n",
    "print(type(y_vector))\n",
    "print(type(ref_channel))"
   ]
  },
  {
   "cell_type": "code",
   "execution_count": null,
   "metadata": {},
   "outputs": [],
   "source": [
    "from sklearn.utils import shuffle\n",
    "X_data_rand, Y_data_rand, R_data_rand = shuffle(img_data_float, y_vector, ref_channel)"
   ]
  },
  {
   "cell_type": "code",
   "execution_count": null,
   "metadata": {},
   "outputs": [],
   "source": [
    "def store_h5_split(images, ref_channel, labels):\n",
    "    \"\"\" Stores an array of images to HDF5.\n",
    "        Parameters:\n",
    "        ---------------\n",
    "        images       images array, (N, 256, 256, 3) to be stored\n",
    "        ref_channel  reference array, (N, 256, 256, 2) to be stored\n",
    "        labels       labels array, (N, 10) to be stored\n",
    "    \"\"\"\n",
    "\n",
    "    # Create a new HDF5 file\n",
    "    file = h5py.File('allen_fa_norm.h5', \"w\")\n",
    "\n",
    "    # Create a dataset in the file\n",
    "    dataset_X = file.create_dataset(\n",
    "        \"X\", np.shape(images), h5py.h5t.IEEE_F32BE, data=images\n",
    "    )\n",
    "    \n",
    "    dataset_Y = file.create_dataset(\n",
    "        \"Y\", np.shape(labels), h5py.h5t.STD_U8BE, data=labels\n",
    "    )\n",
    "    \n",
    "    dataset_R = file.create_dataset(\n",
    "        \"R\", np.shape(ref_channel), h5py.h5t.IEEE_F32BE, data=ref_channel\n",
    "    )\n",
    "    file.close()"
   ]
  },
  {
   "cell_type": "code",
   "execution_count": null,
   "metadata": {},
   "outputs": [],
   "source": [
    "store_h5_split(X_data_rand, R_data_rand, Y_data_rand)"
   ]
  },
  {
   "cell_type": "code",
   "execution_count": null,
   "metadata": {},
   "outputs": [],
   "source": []
  }
 ],
 "metadata": {
  "kernelspec": {
   "display_name": "Python 3",
   "language": "python",
   "name": "python3"
  },
  "language_info": {
   "codemirror_mode": {
    "name": "ipython",
    "version": 3
   },
   "file_extension": ".py",
   "mimetype": "text/x-python",
   "name": "python",
   "nbconvert_exporter": "python",
   "pygments_lexer": "ipython3",
   "version": "3.7.3"
  }
 },
 "nbformat": 4,
 "nbformat_minor": 4
}
